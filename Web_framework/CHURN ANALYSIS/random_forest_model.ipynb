{
 "cells": [
  {
   "attachments": {},
   "cell_type": "markdown",
   "metadata": {},
   "source": [
    "    -> Importing all the Necessary Libraries needed for Model as part of making Web Appplication."
   ]
  },
  {
   "cell_type": "code",
   "execution_count": 1,
   "metadata": {},
   "outputs": [],
   "source": [
    "import pandas as pd\n",
    "import pickle\n",
    "from sklearn.model_selection import train_test_split\n",
    "from sklearn.metrics import confusion_matrix, precision_score, recall_score, f1_score, accuracy_score, classification_report\n",
    "from sklearn.ensemble import RandomForestClassifier"
   ]
  },
  {
   "attachments": {},
   "cell_type": "markdown",
   "metadata": {},
   "source": [
    "    -> Reading the Data-Set using Pandas in Python Environment and saving in \"e_comm\"."
   ]
  },
  {
   "cell_type": "code",
   "execution_count": 2,
   "metadata": {},
   "outputs": [
    {
     "name": "stdout",
     "output_type": "stream",
     "text": [
      "<class 'pandas.core.frame.DataFrame'>\n",
      "RangeIndex: 9364 entries, 0 to 9363\n",
      "Data columns (total 20 columns):\n",
      " #   Column                       Non-Null Count  Dtype  \n",
      "---  ------                       --------------  -----  \n",
      " 0   Unnamed: 0                   9364 non-null   int64  \n",
      " 1   Tenure                       9364 non-null   float64\n",
      " 2   WarehouseToHome              9364 non-null   float64\n",
      " 3   HourSpendOnApp               9364 non-null   float64\n",
      " 4   OrderAmountHikeFromlastYear  9364 non-null   float64\n",
      " 5   CashbackAmount               9364 non-null   float64\n",
      " 6   NumberOfDeviceRegistered     9364 non-null   int64  \n",
      " 7   SatisfactionScore            9364 non-null   int64  \n",
      " 8   NumberOfAddress              9364 non-null   int64  \n",
      " 9   CouponUsed                   9364 non-null   float64\n",
      " 10  OrderCount                   9364 non-null   float64\n",
      " 11  DaySinceLastOrder            9364 non-null   float64\n",
      " 12  PreferredLoginDevice         9364 non-null   int64  \n",
      " 13  PreferredPaymentMode         9364 non-null   int64  \n",
      " 14  Gender                       9364 non-null   int64  \n",
      " 15  PreferedOrderCat             9364 non-null   int64  \n",
      " 16  MaritalStatus                9364 non-null   int64  \n",
      " 17  CityTier                     9364 non-null   int64  \n",
      " 18  Complain                     9364 non-null   int64  \n",
      " 19  Churn                        9364 non-null   int64  \n",
      "dtypes: float64(8), int64(12)\n",
      "memory usage: 1.4 MB\n"
     ]
    }
   ],
   "source": [
    "e_comm = pd.read_csv(r\"D:\\D_S & D_A\\ICTAK\\Churn Web Application\\confirmed\\model_app.csv\")\n",
    "e_comm.info()"
   ]
  },
  {
   "cell_type": "code",
   "execution_count": 3,
   "metadata": {},
   "outputs": [
    {
     "data": {
      "text/plain": [
       "Index(['Unnamed: 0', 'Tenure', 'WarehouseToHome', 'HourSpendOnApp',\n",
       "       'OrderAmountHikeFromlastYear', 'CashbackAmount',\n",
       "       'NumberOfDeviceRegistered', 'SatisfactionScore', 'NumberOfAddress',\n",
       "       'CouponUsed', 'OrderCount', 'DaySinceLastOrder', 'PreferredLoginDevice',\n",
       "       'PreferredPaymentMode', 'Gender', 'PreferedOrderCat', 'MaritalStatus',\n",
       "       'CityTier', 'Complain', 'Churn'],\n",
       "      dtype='object')"
      ]
     },
     "execution_count": 3,
     "metadata": {},
     "output_type": "execute_result"
    }
   ],
   "source": [
    "e_comm.columns"
   ]
  },
  {
   "attachments": {},
   "cell_type": "markdown",
   "metadata": {},
   "source": [
    "    -> Spliting the Target Feature(\"CHURN\") and other Dependent Features."
   ]
  },
  {
   "cell_type": "code",
   "execution_count": 4,
   "metadata": {},
   "outputs": [],
   "source": [
    "x = e_comm.drop(['Churn', 'Unnamed: 0'], axis=1)\n",
    "y = e_comm.Churn\n",
    "x_train, x_test, y_train, y_test = train_test_split(x, y, test_size = 0.21, random_state = 5)"
   ]
  },
  {
   "attachments": {},
   "cell_type": "markdown",
   "metadata": {},
   "source": [
    "    -> Random Forest Model Deployement With Tuned Hyperparameters to get a better Accuracy."
   ]
  },
  {
   "cell_type": "code",
   "execution_count": 5,
   "metadata": {},
   "outputs": [],
   "source": [
    "rf_clf = RandomForestClassifier(random_state = 50, criterion = 'entropy', n_estimators = 200, min_samples_split = 2, min_samples_leaf = 1, max_depth = 60)\n",
    "rf_clf = rf_clf.fit(x_train, y_train)\n",
    "y_pred_rf = rf_clf.predict(x_test)"
   ]
  },
  {
   "cell_type": "code",
   "execution_count": 6,
   "metadata": {},
   "outputs": [
    {
     "name": "stdout",
     "output_type": "stream",
     "text": [
      "\t\tEVALUATION & RESULTS FROM MODEL.\n",
      "\n",
      "ACCURACY:  99.79664463650228 %\n",
      "PRECISION: 100.0 %\n",
      "RECALL SCORE: 0.995987963891675\n",
      "CONFUSION MATIX:\n"
     ]
    },
    {
     "data": {
      "text/html": [
       "<div>\n",
       "<style scoped>\n",
       "    .dataframe tbody tr th:only-of-type {\n",
       "        vertical-align: middle;\n",
       "    }\n",
       "\n",
       "    .dataframe tbody tr th {\n",
       "        vertical-align: top;\n",
       "    }\n",
       "\n",
       "    .dataframe thead th {\n",
       "        text-align: right;\n",
       "    }\n",
       "</style>\n",
       "<table border=\"1\" class=\"dataframe\">\n",
       "  <thead>\n",
       "    <tr style=\"text-align: right;\">\n",
       "      <th>PREDICTED</th>\n",
       "      <th>0</th>\n",
       "      <th>1</th>\n",
       "      <th>All</th>\n",
       "    </tr>\n",
       "    <tr>\n",
       "      <th>TRUE</th>\n",
       "      <th></th>\n",
       "      <th></th>\n",
       "      <th></th>\n",
       "    </tr>\n",
       "  </thead>\n",
       "  <tbody>\n",
       "    <tr>\n",
       "      <th>0</th>\n",
       "      <td>970</td>\n",
       "      <td>4</td>\n",
       "      <td>974</td>\n",
       "    </tr>\n",
       "    <tr>\n",
       "      <th>1</th>\n",
       "      <td>0</td>\n",
       "      <td>993</td>\n",
       "      <td>993</td>\n",
       "    </tr>\n",
       "    <tr>\n",
       "      <th>All</th>\n",
       "      <td>970</td>\n",
       "      <td>997</td>\n",
       "      <td>1967</td>\n",
       "    </tr>\n",
       "  </tbody>\n",
       "</table>\n",
       "</div>"
      ],
      "text/plain": [
       "PREDICTED    0    1   All\n",
       "TRUE                     \n",
       "0          970    4   974\n",
       "1            0  993   993\n",
       "All        970  997  1967"
      ]
     },
     "execution_count": 6,
     "metadata": {},
     "output_type": "execute_result"
    }
   ],
   "source": [
    "print('\\t''\\t''EVALUATION & RESULTS FROM MODEL.')\n",
    "print()\n",
    "print('ACCURACY: ',accuracy_score(y_pred_rf, y_test)*100,'%')\n",
    "print('PRECISION:', precision_score(y_pred_rf, y_test)*100,'%')\n",
    "print('RECALL SCORE:', recall_score(y_pred_rf, y_test))\n",
    "print('CONFUSION MATIX:')\n",
    "pd.crosstab(y_test, y_pred_rf, rownames = ['TRUE'], colnames = ['PREDICTED'], margins = True)"
   ]
  },
  {
   "attachments": {},
   "cell_type": "markdown",
   "metadata": {},
   "source": [
    "    -> Pickle Connector for Serializing and De-Serializing our model and use it in Flask Framework."
   ]
  },
  {
   "cell_type": "code",
   "execution_count": 7,
   "metadata": {},
   "outputs": [],
   "source": [
    "pickle.dump(rf_clf, open('model.pkl','wb'))"
   ]
  }
 ],
 "metadata": {
  "kernelspec": {
   "display_name": "base",
   "language": "python",
   "name": "python3"
  },
  "language_info": {
   "codemirror_mode": {
    "name": "ipython",
    "version": 3
   },
   "file_extension": ".py",
   "mimetype": "text/x-python",
   "name": "python",
   "nbconvert_exporter": "python",
   "pygments_lexer": "ipython3",
   "version": "3.9.13"
  },
  "orig_nbformat": 4
 },
 "nbformat": 4,
 "nbformat_minor": 2
}
